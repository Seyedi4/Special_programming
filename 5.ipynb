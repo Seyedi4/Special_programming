{
 "cells": [
  {
   "cell_type": "markdown",
   "id": "66d8b6a0-61e3-4bbd-acca-0cc0ea2b205d",
   "metadata": {},
   "source": [
    "عملگر‌ شرطی\n",
    "این عملگر از سه بخش تشکیل شده است.\n",
    "\n",
    "condition ? result1 : result2 \n",
    "بخش اول یک عبارت شرطی condition است که اگر درست باشد، حاصل عبارت برابر با result1 می‌شود و در غیر این صورت حاصل عبارت برابر با result2 می‌شود.\n",
    "\n",
    "به مثال زیر توجه کنید.\n",
    "\n",
    "int x = 5;\n",
    " \n",
    "bool odd = x % 2 != 0? true: false;\n",
    "// odd is true\n",
    " \n",
    "bool even = x % 2 == 0? true: false;\n",
    "// even is false\n",
    " \n",
    "int sign = x < 0? -1: x > 0? 1: 0;\n",
    "// sign is 1\n",
    " \n",
    "int a = 4;\n",
    "int b = 3;\n",
    " \n",
    "int minimum = a < b? a: b;\n",
    "// minimum is 3\n",
    "می‌توان عملگر شرطی را به صورت زنجیره‌ای از چند شرط به کار برد.\n",
    "\n",
    "#####\n",
    "منبع: https://opedia.ir/%D8%A2%D9%85%D9%88%D8%B2%D8%B4/%D8%A8%D8%B1%D9%86%D8%A7%D9%85%D9%87_%D9%86%D9%88%DB%8C%D8%B3%DB%8C/%D8%B9%D9%85%D9%84%DA%AF%D8%B1%D9%87%D8%A7_%D9%88_%D8%B9%D8%A8%D8%A7%D8%B1%D8%A7%D8%AA\n",
    "#####"
   ]
  },
  {
   "cell_type": "code",
   "execution_count": 5,
   "id": "cc169bb9-e8a7-4eef-af7d-3faa72e4d5cc",
   "metadata": {},
   "outputs": [
    {
     "name": "stdout",
     "output_type": "stream",
     "text": [
      "بزرگسال\n"
     ]
    }
   ],
   "source": [
    "a=20\n",
    "if(a<10):\n",
    "    print('کودک')\n",
    "elif(a<18):\n",
    "    print('نوجوان')\n",
    "else:\n",
    "    print('بزرگسال')\n",
    "\n",
    "    "
   ]
  },
  {
   "cell_type": "code",
   "execution_count": 6,
   "id": "61a1661b-9118-4d8a-978b-7943e4f57a38",
   "metadata": {},
   "outputs": [
    {
     "name": "stdout",
     "output_type": "stream",
     "text": [
      "متوسط\n"
     ]
    }
   ],
   "source": [
    "def a(m):\n",
    "    if(m<10):\n",
    "        print('مردود')\n",
    "    elif(m<=15):\n",
    "        print('متوسط')\n",
    "    else:\n",
    "        print('خوب')\n",
    "\n",
    "a(15)"
   ]
  },
  {
   "cell_type": "code",
   "execution_count": 7,
   "id": "8dc996e5-f2e4-4331-98cc-57d03234751c",
   "metadata": {},
   "outputs": [
    {
     "data": {
      "text/plain": [
       "120"
      ]
     },
     "execution_count": 7,
     "metadata": {},
     "output_type": "execute_result"
    }
   ],
   "source": [
    "def fact(a):\n",
    "    if (a == 0):\n",
    "        return 1\n",
    "    else:\n",
    "        return a * fact(a-1)\n",
    "\n",
    "fact(5)"
   ]
  },
  {
   "cell_type": "code",
   "execution_count": null,
   "id": "65b9b5c2-3af0-4034-9307-c3a1cc6407ed",
   "metadata": {},
   "outputs": [],
   "source": []
  }
 ],
 "metadata": {
  "kernelspec": {
   "display_name": "Python 3 (ipykernel)",
   "language": "python",
   "name": "python3"
  },
  "language_info": {
   "codemirror_mode": {
    "name": "ipython",
    "version": 3
   },
   "file_extension": ".py",
   "mimetype": "text/x-python",
   "name": "python",
   "nbconvert_exporter": "python",
   "pygments_lexer": "ipython3",
   "version": "3.8.8rc1"
  }
 },
 "nbformat": 4,
 "nbformat_minor": 5
}
