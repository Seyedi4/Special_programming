{
 "cells": [
  {
   "cell_type": "code",
   "execution_count": 6,
   "id": "cf8f9301-5376-4e10-ae95-d60f63f13c07",
   "metadata": {},
   "outputs": [],
   "source": [
    "a=['amir',9,8,5,True]"
   ]
  },
  {
   "cell_type": "code",
   "execution_count": 7,
   "id": "4e9f827b-10f4-4120-b45c-d3f83bd05ea3",
   "metadata": {},
   "outputs": [
    {
     "data": {
      "text/plain": [
       "['amir', 9, 8, 5]"
      ]
     },
     "execution_count": 7,
     "metadata": {},
     "output_type": "execute_result"
    }
   ],
   "source": [
    "a[ : -1]"
   ]
  },
  {
   "cell_type": "code",
   "execution_count": 8,
   "id": "56d5c4c6-3cf6-483f-941d-b83b26f92826",
   "metadata": {},
   "outputs": [
    {
     "data": {
      "text/plain": [
       "[True]"
      ]
     },
     "execution_count": 8,
     "metadata": {},
     "output_type": "execute_result"
    }
   ],
   "source": [
    "a[-1: ]"
   ]
  },
  {
   "cell_type": "code",
   "execution_count": 14,
   "id": "6b3938f8-1d1d-48c6-8a57-13a269cc61b1",
   "metadata": {},
   "outputs": [
    {
     "data": {
      "text/plain": [
       "['amir', 8, True]"
      ]
     },
     "execution_count": 14,
     "metadata": {},
     "output_type": "execute_result"
    }
   ],
   "source": [
    "a[::2]"
   ]
  },
  {
   "cell_type": "code",
   "execution_count": 15,
   "id": "059daa16-a4fe-4748-9e95-294a219ba26c",
   "metadata": {},
   "outputs": [],
   "source": [
    "a.append('a')"
   ]
  },
  {
   "cell_type": "code",
   "execution_count": 16,
   "id": "c560463f-5da1-4e3d-92c0-a6d5a924a379",
   "metadata": {},
   "outputs": [
    {
     "data": {
      "text/plain": [
       "['amir', 9, 8, 5, True, 'a']"
      ]
     },
     "execution_count": 16,
     "metadata": {},
     "output_type": "execute_result"
    }
   ],
   "source": [
    "a"
   ]
  },
  {
   "cell_type": "code",
   "execution_count": 17,
   "id": "56a3c55e-8a40-43a6-874c-0c489572ae42",
   "metadata": {},
   "outputs": [],
   "source": [
    "b=['mohammad','mahdi','seyedi']"
   ]
  },
  {
   "cell_type": "code",
   "execution_count": 18,
   "id": "ebb69e68-c64c-472b-b643-13a9429e93b3",
   "metadata": {},
   "outputs": [],
   "source": [
    "a.extend(b)"
   ]
  },
  {
   "cell_type": "code",
   "execution_count": 19,
   "id": "dbb222a7-0e6f-422c-9a3a-b6889f72800d",
   "metadata": {},
   "outputs": [
    {
     "data": {
      "text/plain": [
       "['amir', 9, 8, 5, True, 'a', 'mohammad', 'mahdi', 'seyedi']"
      ]
     },
     "execution_count": 19,
     "metadata": {},
     "output_type": "execute_result"
    }
   ],
   "source": [
    "a"
   ]
  },
  {
   "cell_type": "code",
   "execution_count": 20,
   "id": "da19b8fc-b18b-4574-8459-c8bb01471891",
   "metadata": {},
   "outputs": [],
   "source": [
    "a.remove('amir')"
   ]
  },
  {
   "cell_type": "code",
   "execution_count": 21,
   "id": "222e053b-8c10-4d13-a602-9e2deac81f51",
   "metadata": {},
   "outputs": [
    {
     "data": {
      "text/plain": [
       "[9, 8, 5, True, 'a', 'mohammad', 'mahdi', 'seyedi']"
      ]
     },
     "execution_count": 21,
     "metadata": {},
     "output_type": "execute_result"
    }
   ],
   "source": [
    "a"
   ]
  },
  {
   "cell_type": "code",
   "execution_count": null,
   "id": "b56af699-6d4d-442d-86ad-5b188ab9b951",
   "metadata": {},
   "outputs": [],
   "source": []
  }
 ],
 "metadata": {
  "kernelspec": {
   "display_name": "Python 3 (ipykernel)",
   "language": "python",
   "name": "python3"
  },
  "language_info": {
   "codemirror_mode": {
    "name": "ipython",
    "version": 3
   },
   "file_extension": ".py",
   "mimetype": "text/x-python",
   "name": "python",
   "nbconvert_exporter": "python",
   "pygments_lexer": "ipython3",
   "version": "3.8.8rc1"
  }
 },
 "nbformat": 4,
 "nbformat_minor": 5
}
