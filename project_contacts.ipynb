{
 "cells": [
  {
   "cell_type": "code",
   "execution_count": null,
   "id": "e1fdaabe-7d29-4c69-a1b9-21050c8bd9b9",
   "metadata": {},
   "outputs": [
    {
     "name": "stdout",
     "output_type": "stream",
     "text": [
      "\n",
      "منو برنامه مخاطبین:\n",
      "1. اضافه کردن مخاطب\n",
      "2. اپدیت مخاطب\n",
      "3. نمایش مخاطبین\n",
      "4. حذف مخاطب\n",
      "5. جستجو مخاطب\n",
      "6. خروج از برنامه\n"
     ]
    }
   ],
   "source": [
    "contacts = {}\n",
    "\n",
    "def add_contact():\n",
    "    name = input(\"نام مخاطب را وارد کنید: \")\n",
    "    phone = input(\"شماره تلفن مخاطب را وارد کنید: \")\n",
    "    contacts[name] = phone\n",
    "    print(\"مخاطب با موفقیت اضافه شد.\")\n",
    "\n",
    "def update_contact():\n",
    "    name = input(\"نام مخاطب را وارد کنید: \")\n",
    "    phone = input(\"شماره تلفن جدید را وارد کنید: \")\n",
    "    if name in contacts:\n",
    "        contacts[name] = phone\n",
    "        print(\"مخاطب با موفقیت بروزرسانی شد.\")\n",
    "    else:\n",
    "        print(\"مخاطب یافت نشد.\")\n",
    "    \n",
    "def show_contacts():\n",
    "    if not contacts:\n",
    "        print(\"دایرکتوری مخاطبین خالی است.\")\n",
    "    else:\n",
    "        for name, phone in contacts.items():\n",
    "            print(name +' : '+ phone)\n",
    "\n",
    "def delete_contact():\n",
    "    name = input(\"نام مخاطبی که می‌خواهید حذف شود را وارد کنید: \")\n",
    "    if name in contacts:\n",
    "        del contacts[name]\n",
    "        print(\"مخاطب با موفقیت حذف شد.\")\n",
    "    else:\n",
    "        print(\"مخاطب یافت نشد.\")\n",
    "\n",
    "def search_contact():\n",
    "    name = input(\"نام مخاطبی که می‌خواهید جستجو شود را وارد کنید: \")\n",
    "    if name in contacts:\n",
    "        print(contacts[name])\n",
    "    else:\n",
    "        print(\"مخاطب یافت نشد.\")\n",
    "\n",
    "while True:\n",
    "    print(\"\\nمنو برنامه مخاطبین:\")\n",
    "    print(\"1. اضافه کردن مخاطب\")\n",
    "    print(\"2. اپدیت مخاطب\")\n",
    "    print(\"3. نمایش مخاطبین\")\n",
    "    print(\"4. حذف مخاطب\")\n",
    "    print(\"5. جستجو مخاطب\")\n",
    "    print(\"6. خروج از برنامه\")\n",
    "    \n",
    "    choice = input(\"لطفا گزینه مورد نظر را انتخاب کنید: \")\n",
    "    print('-----------------------------------')\n",
    "    if choice == \"1\":\n",
    "        add_contact()\n",
    "    elif choice == \"2\":\n",
    "        update_contact()\n",
    "    elif choice == \"3\":\n",
    "        show_contacts()\n",
    "    elif choice == \"4\":\n",
    "        delete_contact()\n",
    "    elif choice == \"5\":\n",
    "        search_contact()\n",
    "    elif choice == \"6\":\n",
    "        break\n",
    "    else:\n",
    "        print(\"گزینه وارد شده صحیح نیست. لطفا دوباره تلاش کنید.\")\n"
   ]
  },
  {
   "cell_type": "code",
   "execution_count": null,
   "id": "c6b3bc9c-8989-401d-9b2c-def25a8fa482",
   "metadata": {},
   "outputs": [],
   "source": []
  }
 ],
 "metadata": {
  "kernelspec": {
   "display_name": "Python 3 (ipykernel)",
   "language": "python",
   "name": "python3"
  },
  "language_info": {
   "codemirror_mode": {
    "name": "ipython",
    "version": 3
   },
   "file_extension": ".py",
   "mimetype": "text/x-python",
   "name": "python",
   "nbconvert_exporter": "python",
   "pygments_lexer": "ipython3",
   "version": "3.8.8rc1"
  }
 },
 "nbformat": 4,
 "nbformat_minor": 5
}
