{
 "cells": [
  {
   "cell_type": "code",
   "execution_count": 1,
   "id": "17045bc0-55b5-492e-8edc-a164aec90fc7",
   "metadata": {},
   "outputs": [
    {
     "data": {
      "text/plain": [
       "-56.0"
      ]
     },
     "execution_count": 1,
     "metadata": {},
     "output_type": "execute_result"
    }
   ],
   "source": [
    "1+2*7/2-(8/2)**3"
   ]
  },
  {
   "cell_type": "code",
   "execution_count": 2,
   "id": "8a178500-ec0d-4411-be90-299b705d1680",
   "metadata": {},
   "outputs": [
    {
     "data": {
      "text/plain": [
       "'amin'"
      ]
     },
     "execution_count": 2,
     "metadata": {},
     "output_type": "execute_result"
    }
   ],
   "source": [
    "'am'+'in'"
   ]
  },
  {
   "cell_type": "code",
   "execution_count": 3,
   "id": "db2582ce-f481-4788-8913-48d2db465195",
   "metadata": {},
   "outputs": [],
   "source": [
    "#'24'+2"
   ]
  },
  {
   "cell_type": "code",
   "execution_count": 11,
   "id": "9757847b-d699-43e5-8650-ccc743b8a452",
   "metadata": {},
   "outputs": [
    {
     "data": {
      "text/plain": [
       "0.8939966636005579"
      ]
     },
     "execution_count": 11,
     "metadata": {},
     "output_type": "execute_result"
    }
   ],
   "source": [
    "import math as m\n",
    "m.sin(90)"
   ]
  },
  {
   "cell_type": "code",
   "execution_count": 12,
   "id": "f36fb5ec-6ccd-4086-92b8-f6948298e815",
   "metadata": {},
   "outputs": [
    {
     "data": {
      "text/plain": [
       "0.5253219888177297"
      ]
     },
     "execution_count": 12,
     "metadata": {},
     "output_type": "execute_result"
    }
   ],
   "source": [
    "m.cos(45)"
   ]
  },
  {
   "cell_type": "code",
   "execution_count": 15,
   "id": "9d3c1201-09b7-4362-b49d-600a4c47ad1f",
   "metadata": {},
   "outputs": [
    {
     "data": {
      "text/plain": [
       "1.6197751905438615"
      ]
     },
     "execution_count": 15,
     "metadata": {},
     "output_type": "execute_result"
    }
   ],
   "source": [
    "m.tan(45)"
   ]
  },
  {
   "cell_type": "code",
   "execution_count": 46,
   "id": "5e5f451c-c6e5-4a5e-9016-2924ecf9f905",
   "metadata": {},
   "outputs": [
    {
     "data": {
      "text/plain": [
       "-0.5012027833801532"
      ]
     },
     "execution_count": 46,
     "metadata": {},
     "output_type": "execute_result"
    }
   ],
   "source": [
    "#m.cot(90)\n",
    "cot=m.tan(90)\n",
    "1/cot"
   ]
  },
  {
   "cell_type": "code",
   "execution_count": 35,
   "id": "da28ac0a-c099-455b-a679-6e7d058ae67b",
   "metadata": {},
   "outputs": [
    {
     "data": {
      "text/plain": [
       "5.656854249492381"
      ]
     },
     "execution_count": 35,
     "metadata": {},
     "output_type": "execute_result"
    }
   ],
   "source": [
    "m.sqrt(32)"
   ]
  },
  {
   "cell_type": "code",
   "execution_count": 17,
   "id": "491036a3-7e68-4973-9d19-737a607e6dad",
   "metadata": {},
   "outputs": [
    {
     "data": {
      "text/plain": [
       "8.0"
      ]
     },
     "execution_count": 17,
     "metadata": {},
     "output_type": "execute_result"
    }
   ],
   "source": [
    "m.sqrt(64)"
   ]
  },
  {
   "cell_type": "code",
   "execution_count": 18,
   "id": "c566359f-9848-4966-b97e-95f131601bb2",
   "metadata": {},
   "outputs": [
    {
     "data": {
      "text/plain": [
       "8.94427190999916"
      ]
     },
     "execution_count": 18,
     "metadata": {},
     "output_type": "execute_result"
    }
   ],
   "source": [
    "m.sqrt(80)"
   ]
  },
  {
   "cell_type": "code",
   "execution_count": 19,
   "id": "3ca87f84-5090-4bf8-aca4-4a186a63235d",
   "metadata": {},
   "outputs": [
    {
     "data": {
      "text/plain": [
       "-0.42070095062112434"
      ]
     },
     "execution_count": 19,
     "metadata": {},
     "output_type": "execute_result"
    }
   ],
   "source": [
    "m.tan(75)"
   ]
  },
  {
   "cell_type": "code",
   "execution_count": 20,
   "id": "71233037-85ae-492b-91b2-70e29739898f",
   "metadata": {},
   "outputs": [
    {
     "data": {
      "text/plain": [
       "-0.3048106211022167"
      ]
     },
     "execution_count": 20,
     "metadata": {},
     "output_type": "execute_result"
    }
   ],
   "source": [
    "m.sin(60)"
   ]
  },
  {
   "cell_type": "markdown",
   "id": "91697a9d-b9ed-4b82-9229-cb88398144a3",
   "metadata": {},
   "source": [
    "return => مقدار خروجی که یک فانکشن بر می گرداند\n",
    "print => چاپ کردن یک مقدار در صفحه\n",
    " یعنی ممکن است دستور return هیچ دیتایی چاپ نکند و صرفا برای پردازش دیتا از ان استفاده کرد اما دستور print فقط قابل نمایش در مانیتور است \n",
    " منابع:\n",
    " https://techtik.com/2018/06/14/python-return-print/\n",
    " https://roocket.ir/discuss/%D9%81%D8%B1%D9%82-return-%D9%88-print-%DA%86%DB%8C%D9%87"
   ]
  },
  {
   "cell_type": "code",
   "execution_count": 28,
   "id": "00f4f2f7-4567-4c51-9dfd-2c8033c67d27",
   "metadata": {},
   "outputs": [
    {
     "name": "stdout",
     "output_type": "stream",
     "text": [
      "7.211102550927978\n"
     ]
    }
   ],
   "source": [
    "def a (x,y):\n",
    "    x1=x**2\n",
    "    y1=y**2\n",
    "    z=x1+y1\n",
    "    print(m.sqrt(z))\n",
    "\n",
    "a(4,6)"
   ]
  },
  {
   "cell_type": "code",
   "execution_count": 43,
   "id": "0bd8cda6-1979-4cd9-9237-bdb20e312e57",
   "metadata": {},
   "outputs": [
    {
     "name": "stdout",
     "output_type": "stream",
     "text": [
      "0.09966592327485067\n"
     ]
    }
   ],
   "source": [
    "def b (x):\n",
    "    y=m.sin(x)\n",
    "    z=m.sqrt(y/x)\n",
    "    print(z)\n",
    "\n",
    "b(90)"
   ]
  },
  {
   "cell_type": "code",
   "execution_count": 42,
   "id": "a9667c14-f70d-4762-9fc7-ba10fe4b09cf",
   "metadata": {},
   "outputs": [
    {
     "name": "stdout",
     "output_type": "stream",
     "text": [
      "-20.0\n"
     ]
    }
   ],
   "source": [
    "def c (x,a,w):\n",
    "    return x-a*(x/w)\n",
    "\n",
    "print(c(10,6,2))"
   ]
  },
  {
   "cell_type": "code",
   "execution_count": 38,
   "id": "70e3096b-6fe7-4359-9c1a-0f3fdc998b9b",
   "metadata": {},
   "outputs": [
    {
     "name": "stdout",
     "output_type": "stream",
     "text": [
      "mahdi seyedi\n",
      "35\n"
     ]
    }
   ],
   "source": [
    "def d (a,b):\n",
    "    print(a+b)\n",
    "\n",
    "d('mahdi',' seyedi')\n",
    "d('3','5')"
   ]
  },
  {
   "cell_type": "code",
   "execution_count": null,
   "id": "c3e2a648-356e-4fda-9cfa-55b4fb5b44a5",
   "metadata": {},
   "outputs": [],
   "source": []
  }
 ],
 "metadata": {
  "kernelspec": {
   "display_name": "Python 3 (ipykernel)",
   "language": "python",
   "name": "python3"
  },
  "language_info": {
   "codemirror_mode": {
    "name": "ipython",
    "version": 3
   },
   "file_extension": ".py",
   "mimetype": "text/x-python",
   "name": "python",
   "nbconvert_exporter": "python",
   "pygments_lexer": "ipython3",
   "version": "3.8.8rc1"
  }
 },
 "nbformat": 4,
 "nbformat_minor": 5
}
